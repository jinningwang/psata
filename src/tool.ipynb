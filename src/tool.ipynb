{
 "cells": [
  {
   "cell_type": "markdown",
   "metadata": {},
   "source": [
    "# Tools Analysis"
   ]
  },
  {
   "cell_type": "markdown",
   "metadata": {},
   "source": [
    "## Imports"
   ]
  },
  {
   "cell_type": "code",
   "execution_count": 1,
   "metadata": {},
   "outputs": [],
   "source": [
    "import os\n",
    "import datetime\n",
    "from collections import OrderedDict\n",
    "\n",
    "import numpy as np\n",
    "import pandas as pd\n",
    "\n",
    "import yaml\n",
    "import requests\n",
    "\n",
    "import matplotlib.pyplot as plt\n",
    "import matplotlib\n",
    "import scienceplots"
   ]
  },
  {
   "cell_type": "code",
   "execution_count": 2,
   "metadata": {},
   "outputs": [
    {
     "name": "stdout",
     "output_type": "stream",
     "text": [
      "Last run: 2024-03-08 13:12:16.833467\n",
      "numpy: 1.26.4 pandas: 2.2.1 matplotlib: 3.8.3\n"
     ]
    }
   ],
   "source": [
    "print(f\"Last run: {datetime.datetime.now()}\")\n",
    "print(f\"numpy: {np.__version__}\", f\"pandas: {pd.__version__}\", f\"matplotlib: {matplotlib.__version__}\")"
   ]
  },
  {
   "cell_type": "code",
   "execution_count": 3,
   "metadata": {},
   "outputs": [],
   "source": [
    "%matplotlib inline"
   ]
  },
  {
   "cell_type": "code",
   "execution_count": 4,
   "metadata": {},
   "outputs": [],
   "source": [
    "plt.style.use([\"science\", \"ieee\"])"
   ]
  },
  {
   "cell_type": "markdown",
   "metadata": {},
   "source": [
    "## Parse Data"
   ]
  },
  {
   "cell_type": "code",
   "execution_count": 5,
   "metadata": {},
   "outputs": [],
   "source": [
    "yaml_url = 'https://github.com/jinningwang/best-of-ps/blob/master/projects.yaml'\n",
    "response = requests.get(yaml_url)\n",
    "if response.status_code == 200:\n",
    "    tool_lists = yaml.safe_load(response.text)\n",
    "else:\n",
    "    print(f\"Failed to fetch YAML file from {yaml_url}. Status code: {response.status_code}\")\n",
    "\n",
    "raw_text = '\\n'.join(tool_lists['payload']['blob']['rawLines'])\n",
    "parsed_data = yaml.safe_load(raw_text)\n",
    "cats_data = parsed_data['categories']"
   ]
  },
  {
   "cell_type": "code",
   "execution_count": 6,
   "metadata": {},
   "outputs": [],
   "source": [
    "# Initialize the dictionary for analysis\n",
    "\n",
    "tools = OrderedDict()\n",
    "\n",
    "for cat in cats_data:\n",
    "    tools[cat['category']] = OrderedDict()\n",
    "\n",
    "for tool_dict in parsed_data['projects']:\n",
    "    cat = tool_dict['category']\n",
    "    tool = tool_dict['name']\n",
    "    tools[cat][tool] = OrderedDict()\n",
    "    tools[cat][tool]['description'] = tool_dict['description'] if 'description' in tool_dict.keys() else None\n",
    "    tools[cat][tool]['github_id'] = tool_dict['github_id'] if 'github_id' in tool_dict.keys() else None\n",
    "    tools[cat][tool]['labels'] = tool_dict['labels'] if 'labels' in tool_dict.keys() else None\n",
    "    tools[cat][tool]['license'] = tool_dict['license'] if 'license' in tool_dict.keys() else None"
   ]
  },
  {
   "cell_type": "code",
   "execution_count": 7,
   "metadata": {},
   "outputs": [
    {
     "data": {
      "text/plain": [
       "odict_keys(['phasor', 'emt', 'steady-state', 'intf', 'ops', 'opl', 'mrl', 'cosime', 'gasnet', 'vis', 'msg', 'data', 'pe'])"
      ]
     },
     "execution_count": 7,
     "metadata": {},
     "output_type": "execute_result"
    }
   ],
   "source": [
    "tools['phasor']\n",
    "\n",
    "tools['steady-state']\n",
    "\n",
    "tools.keys()"
   ]
  },
  {
   "cell_type": "code",
   "execution_count": 8,
   "metadata": {},
   "outputs": [
    {
     "data": {
      "text/plain": [
       "OrderedDict([('ParaEMT',\n",
       "              OrderedDict([('description', 'Parallel EMT simulation'),\n",
       "                           ('github_id', 'NREL/ParaEMT_public'),\n",
       "                           ('labels', ['python']),\n",
       "                           ('license', 'BSD-3')])),\n",
       "             ('DPsim',\n",
       "              OrderedDict([('description',\n",
       "                            'Simulation for both EMT and phasor'),\n",
       "                           ('github_id', 'sogno-platform/dpsim'),\n",
       "                           ('labels',\n",
       "                            ['gha', 'pypi', 'jupyter', 'python', 'c']),\n",
       "                           ('license', 'MPL-2.0')]))])"
      ]
     },
     "execution_count": 8,
     "metadata": {},
     "output_type": "execute_result"
    }
   ],
   "source": [
    "tools[\"emt\"]"
   ]
  },
  {
   "cell_type": "code",
   "execution_count": 13,
   "metadata": {},
   "outputs": [
    {
     "data": {
      "text/html": [
       "<div>\n",
       "<style scoped>\n",
       "    .dataframe tbody tr th:only-of-type {\n",
       "        vertical-align: middle;\n",
       "    }\n",
       "\n",
       "    .dataframe tbody tr th {\n",
       "        vertical-align: top;\n",
       "    }\n",
       "\n",
       "    .dataframe thead th {\n",
       "        text-align: right;\n",
       "    }\n",
       "</style>\n",
       "<table border=\"1\" class=\"dataframe\">\n",
       "  <thead>\n",
       "    <tr style=\"text-align: right;\">\n",
       "      <th></th>\n",
       "      <th>description</th>\n",
       "      <th>github_id</th>\n",
       "      <th>labels</th>\n",
       "      <th>license</th>\n",
       "    </tr>\n",
       "  </thead>\n",
       "  <tbody>\n",
       "    <tr>\n",
       "      <th>ParaEMT</th>\n",
       "      <td>Parallel EMT simulation</td>\n",
       "      <td>NREL/ParaEMT_public</td>\n",
       "      <td>[python]</td>\n",
       "      <td>BSD-3</td>\n",
       "    </tr>\n",
       "    <tr>\n",
       "      <th>DPsim</th>\n",
       "      <td>Simulation for both EMT and phasor</td>\n",
       "      <td>sogno-platform/dpsim</td>\n",
       "      <td>[gha, pypi, jupyter, python, c]</td>\n",
       "      <td>MPL-2.0</td>\n",
       "    </tr>\n",
       "  </tbody>\n",
       "</table>\n",
       "</div>"
      ],
      "text/plain": [
       "                                description             github_id  \\\n",
       "ParaEMT             Parallel EMT simulation   NREL/ParaEMT_public   \n",
       "DPsim    Simulation for both EMT and phasor  sogno-platform/dpsim   \n",
       "\n",
       "                                  labels  license  \n",
       "ParaEMT                         [python]    BSD-3  \n",
       "DPsim    [gha, pypi, jupyter, python, c]  MPL-2.0  "
      ]
     },
     "execution_count": 13,
     "metadata": {},
     "output_type": "execute_result"
    }
   ],
   "source": [
    "df_emt = pd.DataFrame(tools['emt']).T\n",
    "df_emt"
   ]
  },
  {
   "cell_type": "code",
   "execution_count": 15,
   "metadata": {},
   "outputs": [
    {
     "data": {
      "text/html": [
       "<div>\n",
       "<style scoped>\n",
       "    .dataframe tbody tr th:only-of-type {\n",
       "        vertical-align: middle;\n",
       "    }\n",
       "\n",
       "    .dataframe tbody tr th {\n",
       "        vertical-align: top;\n",
       "    }\n",
       "\n",
       "    .dataframe thead th {\n",
       "        text-align: right;\n",
       "    }\n",
       "</style>\n",
       "<table border=\"1\" class=\"dataframe\">\n",
       "  <thead>\n",
       "    <tr style=\"text-align: right;\">\n",
       "      <th></th>\n",
       "      <th>cat</th>\n",
       "      <th>license</th>\n",
       "      <th>labels</th>\n",
       "    </tr>\n",
       "  </thead>\n",
       "  <tbody>\n",
       "    <tr>\n",
       "      <th>ParaEMT</th>\n",
       "      <td>emt</td>\n",
       "      <td>BSD-3</td>\n",
       "      <td>[python]</td>\n",
       "    </tr>\n",
       "    <tr>\n",
       "      <th>DPsim</th>\n",
       "      <td>emt</td>\n",
       "      <td>MPL-2.0</td>\n",
       "      <td>[gha, pypi, jupyter, python, c]</td>\n",
       "    </tr>\n",
       "  </tbody>\n",
       "</table>\n",
       "</div>"
      ],
      "text/plain": [
       "         cat  license                           labels\n",
       "ParaEMT  emt    BSD-3                         [python]\n",
       "DPsim    emt  MPL-2.0  [gha, pypi, jupyter, python, c]"
      ]
     },
     "execution_count": 15,
     "metadata": {},
     "output_type": "execute_result"
    }
   ],
   "source": [
    "tools_df = pd.DataFrame(columns=['cat', 'license'])\n",
    "tools_df['license'] = df_emt['license']\n",
    "tools_df['cat'] = 'emt'\n",
    "tools_df['labels'] = df_emt['labels']\n",
    "tools_df"
   ]
  },
  {
   "cell_type": "code",
   "execution_count": null,
   "metadata": {},
   "outputs": [],
   "source": []
  }
 ],
 "metadata": {
  "kernelspec": {
   "display_name": "repovis",
   "language": "python",
   "name": "python3"
  },
  "language_info": {
   "codemirror_mode": {
    "name": "ipython",
    "version": 3
   },
   "file_extension": ".py",
   "mimetype": "text/x-python",
   "name": "python",
   "nbconvert_exporter": "python",
   "pygments_lexer": "ipython3",
   "version": "3.9.18"
  }
 },
 "nbformat": 4,
 "nbformat_minor": 2
}
