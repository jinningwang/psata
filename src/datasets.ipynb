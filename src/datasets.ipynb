{
 "cells": [
  {
   "cell_type": "markdown",
   "metadata": {},
   "source": [
    "# Datasets"
   ]
  },
  {
   "cell_type": "markdown",
   "metadata": {},
   "source": [
    "## Imports"
   ]
  },
  {
   "cell_type": "code",
   "execution_count": 1,
   "metadata": {},
   "outputs": [],
   "source": [
    "import os\n",
    "import datetime\n",
    "from collections import OrderedDict\n",
    "\n",
    "import numpy as np\n",
    "import pandas as pd\n",
    "\n",
    "import yaml\n",
    "import requests\n",
    "\n",
    "import matplotlib.pyplot as plt\n",
    "import matplotlib\n",
    "import scienceplots"
   ]
  },
  {
   "cell_type": "code",
   "execution_count": 2,
   "metadata": {},
   "outputs": [
    {
     "name": "stdout",
     "output_type": "stream",
     "text": [
      "Last run: 2024-03-07 22:49:53.372800\n",
      "numpy: 1.26.4 pandas: 2.2.1 matplotlib: 3.8.3\n"
     ]
    }
   ],
   "source": [
    "print(f\"Last run: {datetime.datetime.now()}\")\n",
    "print(f\"numpy: {np.__version__}\", f\"pandas: {pd.__version__}\", f\"matplotlib: {matplotlib.__version__}\")"
   ]
  },
  {
   "cell_type": "code",
   "execution_count": 3,
   "metadata": {},
   "outputs": [],
   "source": [
    "%matplotlib inline"
   ]
  },
  {
   "cell_type": "code",
   "execution_count": 4,
   "metadata": {},
   "outputs": [],
   "source": [
    "plt.style.use([\"science\", \"ieee\"])"
   ]
  },
  {
   "cell_type": "markdown",
   "metadata": {},
   "source": [
    "## Parse Data"
   ]
  },
  {
   "cell_type": "code",
   "execution_count": 5,
   "metadata": {},
   "outputs": [],
   "source": [
    "yaml_url = 'https://github.com/jinningwang/best-of-ps/blob/master/projects.yaml'\n",
    "response = requests.get(yaml_url)\n",
    "if response.status_code == 200:\n",
    "    tool_lists = yaml.safe_load(response.text)\n",
    "else:\n",
    "    print(f\"Failed to fetch YAML file from {yaml_url}. Status code: {response.status_code}\")\n",
    "\n",
    "raw_text = '\\n'.join(tool_lists['payload']['blob']['rawLines'])\n",
    "parsed_data = yaml.safe_load(raw_text)\n",
    "cats_data = parsed_data['categories']"
   ]
  },
  {
   "cell_type": "code",
   "execution_count": 6,
   "metadata": {},
   "outputs": [],
   "source": [
    "# Initialize the dictionary for analysis\n",
    "\n",
    "tools = OrderedDict()\n",
    "\n",
    "for cat in cats_data:\n",
    "    tools[cat['category']] = OrderedDict()\n",
    "\n",
    "for tool_dict in parsed_data['projects']:\n",
    "    cat = tool_dict['category']\n",
    "    tool = tool_dict['name']\n",
    "    tools[cat][tool] = OrderedDict()\n",
    "    tools[cat][tool]['description'] = tool_dict['description'] if 'description' in tool_dict.keys() else None\n",
    "    tools[cat][tool]['github_id'] = tool_dict['github_id'] if 'github_id' in tool_dict.keys() else None\n",
    "    tools[cat][tool]['labels'] = tool_dict['labels'] if 'labels' in tool_dict.keys() else None\n",
    "    tools[cat][tool]['license'] = tool_dict['license'] if 'license' in tool_dict.keys() else None"
   ]
  },
  {
   "cell_type": "code",
   "execution_count": 7,
   "metadata": {},
   "outputs": [
    {
     "data": {
      "text/plain": [
       "odict_keys(['phasor', 'emt', 'steady-state', 'intf', 'ops', 'opl', 'mrl', 'cosime', 'gasnet', 'vis', 'msg', 'data', 'pe'])"
      ]
     },
     "execution_count": 7,
     "metadata": {},
     "output_type": "execute_result"
    }
   ],
   "source": [
    "tools['phasor']\n",
    "\n",
    "tools['steady-state']\n",
    "\n",
    "tools.keys()"
   ]
  },
  {
   "cell_type": "code",
   "execution_count": 8,
   "metadata": {},
   "outputs": [
    {
     "name": "stdout",
     "output_type": "stream",
     "text": [
      "Repository 'ams' already exists at ./../repos/ams. Skipping clone.\n"
     ]
    }
   ],
   "source": [
    "# AMS as an example to show static code analysis\n",
    "\n",
    "github_id = tools['steady-state']['LTB AMS']['github_id']\n",
    "proj_name = github_id.split('/')[-1]\n",
    "repo_path = f\"./../repos/{proj_name}\"  # Adjust the path as necessary\n",
    "\n",
    "# Check if the repository directory already exists\n",
    "if not os.path.exists(repo_path):\n",
    "    git_url = f\"https://github.com/{github_id}.git\"\n",
    "    clone_command = f\"!git clone {git_url} {repo_path}\"\n",
    "    print(\"Cloning repository...\")\n",
    "    get_ipython().system(clone_command)\n",
    "else:\n",
    "    print(f\"Repository '{proj_name}' already exists at {repo_path}. Skipping clone.\")"
   ]
  },
  {
   "cell_type": "code",
   "execution_count": 9,
   "metadata": {},
   "outputs": [
    {
     "name": "stdout",
     "output_type": "stream",
     "text": [
      "               \n",
      "               \n",
      "┌─────────────┐\n",
      "│ Scan Status │\n",
      "└─────────────┘\n",
      "  Scanning 195 files tracked by git with 147 Code rules:\n",
      "  Scanning 85 files with 147 python rules.\n",
      "\u001b[2K  \u001b[90m━━━━━━━━━━━━━━━━━━━━━━━━━━━━━━━━━━━━━━━━\u001b[0m \u001b[35m100%\u001b[0m \u001b[33m0:00:01\u001b[0m                                                                                                                        \u001b[90m━\u001b[0m\u001b[90m━\u001b[0m\u001b[90m━\u001b[0m\u001b[90m━\u001b[0m\u001b[90m━\u001b[0m\u001b[90m━\u001b[0m\u001b[90m━\u001b[0m\u001b[90m━\u001b[0m\u001b[90m━\u001b[0m\u001b[90m━\u001b[0m\u001b[35m━\u001b[0m\u001b[91m━\u001b[0m\u001b[91m━\u001b[0m\u001b[91m━\u001b[0m\u001b[91m━\u001b[0m\u001b[91m━\u001b[0m\u001b[91m━\u001b[0m\u001b[91m━\u001b[0m\u001b[35m━\u001b[0m\u001b[90m━\u001b[0m \u001b[35m  0%\u001b[0m \u001b[33m-:--:--\u001b[0m\n",
      "\u001b[?25h                \n",
      "                \n",
      "┌──────────────┐\n",
      "│ Scan Summary │\n",
      "└──────────────┘\n",
      "Some files were skipped or only partially analyzed.\n",
      "  Scan was limited to files tracked by git.\n",
      "  Scan skipped: 16 files matching .semgrepignore patterns\n",
      "  For a full list of skipped files, run semgrep with the --verbose flag.\n",
      "\n",
      "Ran 147 rules on 85 files: 1 finding.\n"
     ]
    }
   ],
   "source": [
    "!semgrep --config=p/python --json ./../repos/{proj_name} > ./../repos/results/{proj_name}.json"
   ]
  }
 ],
 "metadata": {
  "kernelspec": {
   "display_name": "repovis",
   "language": "python",
   "name": "python3"
  },
  "language_info": {
   "codemirror_mode": {
    "name": "ipython",
    "version": 3
   },
   "file_extension": ".py",
   "mimetype": "text/x-python",
   "name": "python",
   "nbconvert_exporter": "python",
   "pygments_lexer": "ipython3",
   "version": "3.9.18"
  }
 },
 "nbformat": 4,
 "nbformat_minor": 2
}
