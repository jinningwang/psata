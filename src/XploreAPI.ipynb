{
 "cells": [
  {
   "cell_type": "markdown",
   "metadata": {},
   "source": [
    "# Xplore"
   ]
  },
  {
   "cell_type": "markdown",
   "metadata": {},
   "source": [
    "## Imports"
   ]
  },
  {
   "cell_type": "code",
   "execution_count": 24,
   "metadata": {},
   "outputs": [],
   "source": [
    "import os\n",
    "import json\n",
    "import datetime\n",
    "\n",
    "import numpy as np\n",
    "import pandas as pd\n",
    "\n",
    "import requests\n",
    "from bs4 import BeautifulSoup\n",
    "import matplotlib.pyplot as plt\n",
    "\n",
    "import scienceplots\n",
    "\n",
    "from xploreapi import XPLORE"
   ]
  },
  {
   "cell_type": "code",
   "execution_count": 2,
   "metadata": {},
   "outputs": [
    {
     "name": "stdout",
     "output_type": "stream",
     "text": [
      "Last run: 2024-03-08 12:21:32.137236\n",
      "numpy: 1.26.4 pandas: 2.2.1 matplotlib: 3.8.3\n"
     ]
    }
   ],
   "source": [
    "print(f\"Last run: {datetime.datetime.now()}\")\n",
    "print(f\"numpy: {np.__version__}\", f\"pandas: {pd.__version__}\", f\"matplotlib: {matplotlib.__version__}\")"
   ]
  },
  {
   "cell_type": "code",
   "execution_count": 3,
   "metadata": {},
   "outputs": [],
   "source": [
    "matplotlib.style.use(['science', 'ieee'])"
   ]
  },
  {
   "cell_type": "code",
   "execution_count": 4,
   "metadata": {},
   "outputs": [],
   "source": [
    "%matplotlib inline"
   ]
  },
  {
   "cell_type": "markdown",
   "metadata": {},
   "source": [
    "## IEEEXplore Data Analysis"
   ]
  },
  {
   "cell_type": "code",
   "execution_count": 5,
   "metadata": {},
   "outputs": [],
   "source": [
    "def load_api_key(filepath):\n",
    "    with open(filepath, 'r') as file:\n",
    "        config = json.load(file)\n",
    "        return config.get('XPLORE_API_KEY', None)\n",
    "\n",
    "ieee_api_key = load_api_key('../api_keys.json')\n",
    "\n",
    "if not ieee_api_key:\n",
    "    print(\"XPlore API key not found in config.\")"
   ]
  },
  {
   "cell_type": "code",
   "execution_count": 6,
   "metadata": {},
   "outputs": [],
   "source": [
    "query = XPLORE(ieee_api_key)  # create an query object\n",
    "query.maximumResults(200)  # define maximum number of results, 200 is the maximum\n",
    "query.dataType('json')  # define data type\n",
    "query.dataFormat('object')  # define data format\n",
    "# query.issn('1949-3053')  # define ISSN\n",
    "query.publicationTitle('IEEE Transactions on Smart Grid')\n",
    "query.insertionStartDate('20230101')  # define start date\n",
    "query.insertionEndDate('20230331')  # define end date\n",
    "data = query.callAPI()  # call the API\n",
    "\n",
    "articles_filter_no_author = [x for x in data['articles'] if len(x['authors']['authors']) > 0]\n",
    "articles_filter_no_author_termns = [x for x in articles_filter_no_author if 'publication_date' in x.keys()]\n",
    "articles = [x for x in articles_filter_no_author_termns if 'author_terms' in x['index_terms'].keys()]\n",
    "\n",
    "# Write to file\n",
    "with open('./../data/raw/articles.txt', 'w') as file:\n",
    "    for item in articles:\n",
    "        file.write(\"%s\\n\" % item)"
   ]
  },
  {
   "cell_type": "code",
   "execution_count": 28,
   "metadata": {},
   "outputs": [],
   "source": [
    "def fetch_ieee_articles(api_key, publication_title, start_date, end_date, save=False, filename='articles.txt'):\n",
    "    \"\"\"\n",
    "    Fetch articles from IEEE Xplore API for a specific publication within a given date range and optionally save to a file.\n",
    "    \n",
    "    Parameters:\n",
    "    api_key (str): The API key for accessing the IEEE Xplore API.\n",
    "    publication_title (str): The title of the publication to search for.\n",
    "    start_date (str): The start date for the search query in YYYYMMDD format.\n",
    "    end_date (str): The end date for the search query in YYYYMMDD format.\n",
    "    save (bool): Whether to save the fetched articles to a file. Defaults to False.\n",
    "    filename (str): The filename where the articles will be saved if save is True. Defaults to 'articles.txt'.\n",
    "    \n",
    "    Returns:\n",
    "    list: A list of articles that match the search criteria.\n",
    "    \"\"\"\n",
    "    query = XPLORE(api_key)  # create an query object\n",
    "    query.maximumResults(200)  # define maximum number of results, 200 is the maximum\n",
    "    query.dataType('json')  # define data type\n",
    "    query.dataFormat('object')  # define data format\n",
    "    # query.issn('1949-3053')  # optionally define ISSN\n",
    "    query.publicationTitle(publication_title)\n",
    "    query.insertionStartDate(start_date)  # define start date\n",
    "    query.insertionEndDate(end_date)  # define end date\n",
    "    data = query.callAPI()  # call the API\n",
    "\n",
    "    # Filter articles with authors and required terms\n",
    "    articles_filter_no_author = [x for x in data['articles'] if 'authors' in x and len(x['authors']['authors']) > 0]\n",
    "    articles_filter_no_author_terms = [x for x in articles_filter_no_author if 'publication_date' in x]\n",
    "    articles = [x for x in articles_filter_no_author_terms if 'author_terms' in x.get('index_terms', {}).keys()]\n",
    "\n",
    "    if save:\n",
    "        # Write to file\n",
    "        with open(filename, 'w') as file:\n",
    "            for item in articles:\n",
    "                file.write(\"%s\\n\" % item)\n",
    "                \n",
    "    return articles\n",
    "\n",
    "# Example usage:\n",
    "articles = fetch_ieee_articles(api_key=ieee_api_key,\n",
    "                                publication_title='IEEE Transactions on Smart Grid',\n",
    "                                start_date='20230101', end_date='20230331', save=True,\n",
    "                                filename='./../data/raw/TSG202303.txt')\n"
   ]
  },
  {
   "cell_type": "code",
   "execution_count": null,
   "metadata": {},
   "outputs": [],
   "source": [
    "df = pd.DataFrame()\n",
    "df['doi'] = [x['doi'] for x in articles]\n",
    "df['publication_date'] = [x['publication_date'] for x in articles]\n",
    "df['ieee_terms'] = [x['index_terms']['ieee_terms']['terms'] for x in articles]\n",
    "df['author_terms'] = [x['index_terms']['author_terms']['terms'] for x in articles]"
   ]
  },
  {
   "cell_type": "code",
   "execution_count": 9,
   "metadata": {},
   "outputs": [
    {
     "data": {
      "text/html": [
       "<div>\n",
       "<style scoped>\n",
       "    .dataframe tbody tr th:only-of-type {\n",
       "        vertical-align: middle;\n",
       "    }\n",
       "\n",
       "    .dataframe tbody tr th {\n",
       "        vertical-align: top;\n",
       "    }\n",
       "\n",
       "    .dataframe thead th {\n",
       "        text-align: right;\n",
       "    }\n",
       "</style>\n",
       "<table border=\"1\" class=\"dataframe\">\n",
       "  <thead>\n",
       "    <tr style=\"text-align: right;\">\n",
       "      <th></th>\n",
       "      <th>doi</th>\n",
       "      <th>publication_date</th>\n",
       "      <th>ieee_terms</th>\n",
       "      <th>author_terms</th>\n",
       "    </tr>\n",
       "  </thead>\n",
       "  <tbody>\n",
       "    <tr>\n",
       "      <th>0</th>\n",
       "      <td>10.1109/TSG.2023.3240580</td>\n",
       "      <td>July 2023</td>\n",
       "      <td>[Roads, Navigation, Feature extraction, Topolo...</td>\n",
       "      <td>[Electric vehicle fleet charging guidance, tra...</td>\n",
       "    </tr>\n",
       "    <tr>\n",
       "      <th>1</th>\n",
       "      <td>10.1109/TSG.2023.3237624</td>\n",
       "      <td>Sept. 2023</td>\n",
       "      <td>[Microgrids, Blockchains, Peer-to-peer computi...</td>\n",
       "      <td>[Microgrid, blockchain, prosumers, smart city,...</td>\n",
       "    </tr>\n",
       "    <tr>\n",
       "      <th>2</th>\n",
       "      <td>10.1109/TSG.2023.3263107</td>\n",
       "      <td>Nov. 2023</td>\n",
       "      <td>[Integrated circuits, Microgrids, Integrated c...</td>\n",
       "      <td>[Distributed control, hybrid ac/dc microgrid, ...</td>\n",
       "    </tr>\n",
       "    <tr>\n",
       "      <th>3</th>\n",
       "      <td>10.1109/TSG.2023.3256480</td>\n",
       "      <td>Nov. 2023</td>\n",
       "      <td>[Power system protection, Power system faults,...</td>\n",
       "      <td>[Cascading failure, deep learning, detection m...</td>\n",
       "    </tr>\n",
       "    <tr>\n",
       "      <th>4</th>\n",
       "      <td>10.1109/TSG.2023.3246083</td>\n",
       "      <td>Sept. 2023</td>\n",
       "      <td>[Pricing, Batteries, Peer-to-peer computing, M...</td>\n",
       "      <td>[P2P energy sharing, energy management, vehicl...</td>\n",
       "    </tr>\n",
       "    <tr>\n",
       "      <th>...</th>\n",
       "      <td>...</td>\n",
       "      <td>...</td>\n",
       "      <td>...</td>\n",
       "      <td>...</td>\n",
       "    </tr>\n",
       "    <tr>\n",
       "      <th>115</th>\n",
       "      <td>10.1109/TSG.2023.3255168</td>\n",
       "      <td>Nov. 2023</td>\n",
       "      <td>[Power system stability, Phase locked loops, C...</td>\n",
       "      <td>[Angle stability, grid-following inverter, gri...</td>\n",
       "    </tr>\n",
       "    <tr>\n",
       "      <th>116</th>\n",
       "      <td>10.1109/TSG.2023.3261271</td>\n",
       "      <td>Nov. 2023</td>\n",
       "      <td>[Trajectory, Home appliances, Load monitoring,...</td>\n",
       "      <td>[Capsule network, conditional generative adver...</td>\n",
       "    </tr>\n",
       "    <tr>\n",
       "      <th>117</th>\n",
       "      <td>10.1109/TSG.2023.3258441</td>\n",
       "      <td>July 2023</td>\n",
       "      <td>[Thermal loading, Buildings, Load modeling, He...</td>\n",
       "      <td>[Integrated energy systems, robust nodal prici...</td>\n",
       "    </tr>\n",
       "    <tr>\n",
       "      <th>118</th>\n",
       "      <td>10.1109/TSG.2023.3243811</td>\n",
       "      <td>Sept. 2023</td>\n",
       "      <td>[Convergence, Scheduling, Convex functions, Vi...</td>\n",
       "      <td>[Energy sharing, virtual power plant, ADMM, ma...</td>\n",
       "    </tr>\n",
       "    <tr>\n",
       "      <th>119</th>\n",
       "      <td>10.1109/TSG.2023.3243467</td>\n",
       "      <td>Sept. 2023</td>\n",
       "      <td>[Data models, Federated learning, Collaboratio...</td>\n",
       "      <td>[Computational and artificial intelligence, ar...</td>\n",
       "    </tr>\n",
       "  </tbody>\n",
       "</table>\n",
       "<p>120 rows × 4 columns</p>\n",
       "</div>"
      ],
      "text/plain": [
       "                          doi publication_date  \\\n",
       "0    10.1109/TSG.2023.3240580        July 2023   \n",
       "1    10.1109/TSG.2023.3237624       Sept. 2023   \n",
       "2    10.1109/TSG.2023.3263107        Nov. 2023   \n",
       "3    10.1109/TSG.2023.3256480        Nov. 2023   \n",
       "4    10.1109/TSG.2023.3246083       Sept. 2023   \n",
       "..                        ...              ...   \n",
       "115  10.1109/TSG.2023.3255168        Nov. 2023   \n",
       "116  10.1109/TSG.2023.3261271        Nov. 2023   \n",
       "117  10.1109/TSG.2023.3258441        July 2023   \n",
       "118  10.1109/TSG.2023.3243811       Sept. 2023   \n",
       "119  10.1109/TSG.2023.3243467       Sept. 2023   \n",
       "\n",
       "                                            ieee_terms  \\\n",
       "0    [Roads, Navigation, Feature extraction, Topolo...   \n",
       "1    [Microgrids, Blockchains, Peer-to-peer computi...   \n",
       "2    [Integrated circuits, Microgrids, Integrated c...   \n",
       "3    [Power system protection, Power system faults,...   \n",
       "4    [Pricing, Batteries, Peer-to-peer computing, M...   \n",
       "..                                                 ...   \n",
       "115  [Power system stability, Phase locked loops, C...   \n",
       "116  [Trajectory, Home appliances, Load monitoring,...   \n",
       "117  [Thermal loading, Buildings, Load modeling, He...   \n",
       "118  [Convergence, Scheduling, Convex functions, Vi...   \n",
       "119  [Data models, Federated learning, Collaboratio...   \n",
       "\n",
       "                                          author_terms  \n",
       "0    [Electric vehicle fleet charging guidance, tra...  \n",
       "1    [Microgrid, blockchain, prosumers, smart city,...  \n",
       "2    [Distributed control, hybrid ac/dc microgrid, ...  \n",
       "3    [Cascading failure, deep learning, detection m...  \n",
       "4    [P2P energy sharing, energy management, vehicl...  \n",
       "..                                                 ...  \n",
       "115  [Angle stability, grid-following inverter, gri...  \n",
       "116  [Capsule network, conditional generative adver...  \n",
       "117  [Integrated energy systems, robust nodal prici...  \n",
       "118  [Energy sharing, virtual power plant, ADMM, ma...  \n",
       "119  [Computational and artificial intelligence, ar...  \n",
       "\n",
       "[120 rows x 4 columns]"
      ]
     },
     "execution_count": 9,
     "metadata": {},
     "output_type": "execute_result"
    }
   ],
   "source": [
    "df"
   ]
  }
 ],
 "metadata": {
  "kernelspec": {
   "display_name": "repovis",
   "language": "python",
   "name": "python3"
  },
  "language_info": {
   "codemirror_mode": {
    "name": "ipython",
    "version": 3
   },
   "file_extension": ".py",
   "mimetype": "text/x-python",
   "name": "python",
   "nbconvert_exporter": "python",
   "pygments_lexer": "ipython3",
   "version": "3.9.18"
  }
 },
 "nbformat": 4,
 "nbformat_minor": 2
}
